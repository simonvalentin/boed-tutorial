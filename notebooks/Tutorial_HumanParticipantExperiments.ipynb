{
 "cells": [
  {
   "cell_type": "code",
   "execution_count": 1,
   "metadata": {},
   "outputs": [
    {
     "name": "stderr",
     "output_type": "stream",
     "text": [
      "/Users/simon/anaconda3/envs/boed-tutorial/lib/python3.8/site-packages/tqdm/auto.py:22: TqdmWarning: IProgress not found. Please update jupyter and ipywidgets. See https://ipywidgets.readthedocs.io/en/stable/user_install.html\n",
      "  from .autonotebook import tqdm as notebook_tqdm\n"
     ]
    }
   ],
   "source": [
    "from typing import List, Optional, Tuple, Union\n",
    "\n",
    "import copy\n",
    "import json\n",
    "import numpy\n",
    "import random\n",
    "import torch\n",
    "import pandas\n",
    "import seaborn as sns\n",
    "import scipy.stats as sts\n",
    "from scipy.stats import lognorm\n",
    "from tqdm import tqdm as tqdm\n",
    "\n",
    "# BED imports\n",
    "from boed.networks.fullyconnected import FullyConnected\n",
    "from boed.networks.summstats import NeuralSummStats, CAT_NSS\n",
    "from boed.simulators.bandits import simulate_bandit_batch, sim_bandit_prior\n",
    "from boed.utils.utils_human_participant_study import *\n",
    "\n",
    "# matplotlib imports\n",
    "import matplotlib.pyplot as plt\n",
    "import matplotlib.gridspec as gridspec\n",
    "from matplotlib.colors import to_rgb\n",
    "from matplotlib.patches import Patch\n",
    "from matplotlib import rc\n",
    "%matplotlib inline\n",
    "plt.style.use('default')\n",
    "plt.rcParams['figure.figsize'] = (16.0, 8.0)\n",
    "plt.rcParams.update({'font.size': 16})\n",
    "rc('font', **{'family': 'serif', 'serif': ['Computer Modern']})\n",
    "rc('text', usetex=True)\n",
    "plt.rcParams['text.latex.preamble'] = r'\\usepackage{amsmath}'\n",
    "cycle = plt.rcParams['axes.prop_cycle'].by_key()['color']"
   ]
  },
  {
   "cell_type": "code",
   "execution_count": 2,
   "metadata": {},
   "outputs": [],
   "source": [
    "device = torch.device('cpu')"
   ]
  },
  {
   "cell_type": "markdown",
   "metadata": {},
   "source": [
    "# Load in Processed Data"
   ]
  },
  {
   "cell_type": "markdown",
   "metadata": {},
   "source": [
    "## Posterior Data"
   ]
  },
  {
   "cell_type": "code",
   "execution_count": 3,
   "metadata": {},
   "outputs": [],
   "source": [
    "# MD\n",
    "md_savedata = torch.load('../data/md_posts_savedata.pt')\n",
    "\n",
    "# PE WSLS\n",
    "pe_wslts_savedata = torch.load('../data/pe_wslts_posts_savedata.pt')\n",
    "corrs_pe_wslts_ensemble =  pe_wslts_savedata['corrs_opt_ensemble']\n",
    "corrs_pe_wslts_ensemble_base = pe_wslts_savedata['corrs_base_ensemble']\n",
    "\n",
    "# PE AEG\n",
    "pe_aeg_savedata = torch.load('../data/pe_aeg_posts_savedata.pt')\n",
    "corrs_pe_aeg_ensemble =  pe_aeg_savedata['corrs_opt_ensemble']\n",
    "corrs_pe_aeg_ensemble_base = pe_aeg_savedata['corrs_base_ensemble']\n",
    "\n",
    "# PE GLS\n",
    "pe_gls_savedata = torch.load('../data/pe_gls_posts_savedata.pt')\n",
    "corrs_pe_gls_ensemble =  pe_gls_savedata['corrs_opt_ensemble']\n",
    "corrs_pe_gls_ensemble_base = pe_gls_savedata['corrs_base_ensemble']"
   ]
  },
  {
   "cell_type": "markdown",
   "metadata": {},
   "source": [
    "## Entropy Data"
   ]
  },
  {
   "cell_type": "code",
   "execution_count": 4,
   "metadata": {},
   "outputs": [
    {
     "ename": "FileNotFoundError",
     "evalue": "[Errno 2] No such file or directory: '../data/pe_wslts_entropies_ngrid30.pt'",
     "output_type": "error",
     "traceback": [
      "\u001b[0;31m---------------------------------------------------------------------------\u001b[0m",
      "\u001b[0;31mFileNotFoundError\u001b[0m                         Traceback (most recent call last)",
      "Cell \u001b[0;32mIn[4], line 7\u001b[0m\n\u001b[1;32m      4\u001b[0m md_entropies_base \u001b[38;5;241m=\u001b[39m md_entropies_data[\u001b[38;5;124m'\u001b[39m\u001b[38;5;124mbase_ind\u001b[39m\u001b[38;5;124m'\u001b[39m]\n\u001b[1;32m      6\u001b[0m \u001b[38;5;66;03m# PE\u001b[39;00m\n\u001b[0;32m----> 7\u001b[0m pe_wslts_entropies_data \u001b[38;5;241m=\u001b[39m \u001b[43mtorch\u001b[49m\u001b[38;5;241;43m.\u001b[39;49m\u001b[43mload\u001b[49m\u001b[43m(\u001b[49m\u001b[38;5;124;43m'\u001b[39;49m\u001b[38;5;124;43m../data/pe_wslts_entropies_ngrid30.pt\u001b[39;49m\u001b[38;5;124;43m'\u001b[39;49m\u001b[43m)\u001b[49m\n\u001b[1;32m      8\u001b[0m pe_aeg_entropies_data \u001b[38;5;241m=\u001b[39m torch\u001b[38;5;241m.\u001b[39mload(\u001b[38;5;124m'\u001b[39m\u001b[38;5;124m../data/pe_aeg_entropies_ngrid100.pt\u001b[39m\u001b[38;5;124m'\u001b[39m)\n\u001b[1;32m      9\u001b[0m pe_gls_entropies_data \u001b[38;5;241m=\u001b[39m torch\u001b[38;5;241m.\u001b[39mload(\u001b[38;5;124m'\u001b[39m\u001b[38;5;124m../data/pe_gls_entropies_ngrid10.pt\u001b[39m\u001b[38;5;124m'\u001b[39m)\n",
      "File \u001b[0;32m~/anaconda3/envs/boed-tutorial/lib/python3.8/site-packages/torch/serialization.py:771\u001b[0m, in \u001b[0;36mload\u001b[0;34m(f, map_location, pickle_module, weights_only, **pickle_load_args)\u001b[0m\n\u001b[1;32m    768\u001b[0m \u001b[38;5;28;01mif\u001b[39;00m \u001b[38;5;124m'\u001b[39m\u001b[38;5;124mencoding\u001b[39m\u001b[38;5;124m'\u001b[39m \u001b[38;5;129;01mnot\u001b[39;00m \u001b[38;5;129;01min\u001b[39;00m pickle_load_args\u001b[38;5;241m.\u001b[39mkeys():\n\u001b[1;32m    769\u001b[0m     pickle_load_args[\u001b[38;5;124m'\u001b[39m\u001b[38;5;124mencoding\u001b[39m\u001b[38;5;124m'\u001b[39m] \u001b[38;5;241m=\u001b[39m \u001b[38;5;124m'\u001b[39m\u001b[38;5;124mutf-8\u001b[39m\u001b[38;5;124m'\u001b[39m\n\u001b[0;32m--> 771\u001b[0m \u001b[38;5;28;01mwith\u001b[39;00m \u001b[43m_open_file_like\u001b[49m\u001b[43m(\u001b[49m\u001b[43mf\u001b[49m\u001b[43m,\u001b[49m\u001b[43m \u001b[49m\u001b[38;5;124;43m'\u001b[39;49m\u001b[38;5;124;43mrb\u001b[39;49m\u001b[38;5;124;43m'\u001b[39;49m\u001b[43m)\u001b[49m \u001b[38;5;28;01mas\u001b[39;00m opened_file:\n\u001b[1;32m    772\u001b[0m     \u001b[38;5;28;01mif\u001b[39;00m _is_zipfile(opened_file):\n\u001b[1;32m    773\u001b[0m         \u001b[38;5;66;03m# The zipfile reader is going to advance the current file position.\u001b[39;00m\n\u001b[1;32m    774\u001b[0m         \u001b[38;5;66;03m# If we want to actually tail call to torch.jit.load, we need to\u001b[39;00m\n\u001b[1;32m    775\u001b[0m         \u001b[38;5;66;03m# reset back to the original position.\u001b[39;00m\n\u001b[1;32m    776\u001b[0m         orig_position \u001b[38;5;241m=\u001b[39m opened_file\u001b[38;5;241m.\u001b[39mtell()\n",
      "File \u001b[0;32m~/anaconda3/envs/boed-tutorial/lib/python3.8/site-packages/torch/serialization.py:270\u001b[0m, in \u001b[0;36m_open_file_like\u001b[0;34m(name_or_buffer, mode)\u001b[0m\n\u001b[1;32m    268\u001b[0m \u001b[38;5;28;01mdef\u001b[39;00m \u001b[38;5;21m_open_file_like\u001b[39m(name_or_buffer, mode):\n\u001b[1;32m    269\u001b[0m     \u001b[38;5;28;01mif\u001b[39;00m _is_path(name_or_buffer):\n\u001b[0;32m--> 270\u001b[0m         \u001b[38;5;28;01mreturn\u001b[39;00m \u001b[43m_open_file\u001b[49m\u001b[43m(\u001b[49m\u001b[43mname_or_buffer\u001b[49m\u001b[43m,\u001b[49m\u001b[43m \u001b[49m\u001b[43mmode\u001b[49m\u001b[43m)\u001b[49m\n\u001b[1;32m    271\u001b[0m     \u001b[38;5;28;01melse\u001b[39;00m:\n\u001b[1;32m    272\u001b[0m         \u001b[38;5;28;01mif\u001b[39;00m \u001b[38;5;124m'\u001b[39m\u001b[38;5;124mw\u001b[39m\u001b[38;5;124m'\u001b[39m \u001b[38;5;129;01min\u001b[39;00m mode:\n",
      "File \u001b[0;32m~/anaconda3/envs/boed-tutorial/lib/python3.8/site-packages/torch/serialization.py:251\u001b[0m, in \u001b[0;36m_open_file.__init__\u001b[0;34m(self, name, mode)\u001b[0m\n\u001b[1;32m    250\u001b[0m \u001b[38;5;28;01mdef\u001b[39;00m \u001b[38;5;21m__init__\u001b[39m(\u001b[38;5;28mself\u001b[39m, name, mode):\n\u001b[0;32m--> 251\u001b[0m     \u001b[38;5;28msuper\u001b[39m(_open_file, \u001b[38;5;28mself\u001b[39m)\u001b[38;5;241m.\u001b[39m\u001b[38;5;21m__init__\u001b[39m(\u001b[38;5;28;43mopen\u001b[39;49m\u001b[43m(\u001b[49m\u001b[43mname\u001b[49m\u001b[43m,\u001b[49m\u001b[43m \u001b[49m\u001b[43mmode\u001b[49m\u001b[43m)\u001b[49m)\n",
      "\u001b[0;31mFileNotFoundError\u001b[0m: [Errno 2] No such file or directory: '../data/pe_wslts_entropies_ngrid30.pt'"
     ]
    }
   ],
   "source": [
    "# MD\n",
    "md_entropies_data = torch.load('../data/md_entropies.pt')\n",
    "md_entropies_opt = md_entropies_data['opt_ind']\n",
    "md_entropies_base = md_entropies_data['base_ind']\n",
    "\n",
    "# PE\n",
    "pe_wslts_entropies_data = torch.load('../data/pe_wslts_entropies_ngrid30.pt')\n",
    "pe_aeg_entropies_data = torch.load('../data/pe_aeg_entropies_ngrid100.pt')\n",
    "pe_gls_entropies_data = torch.load('../data/pe_gls_entropies_ngrid10.pt')"
   ]
  },
  {
   "cell_type": "markdown",
   "metadata": {},
   "source": [
    "# Quantitative Analysis"
   ]
  },
  {
   "cell_type": "markdown",
   "metadata": {},
   "source": [
    "## Posterior Correlations"
   ]
  },
  {
   "cell_type": "code",
   "execution_count": null,
   "metadata": {},
   "outputs": [],
   "source": [
    "# Compute average inter-parameter correlations for optimal designs\n",
    "average_corrs_wslts_opt = numpy.mean(corrs_pe_wslts_ensemble, axis=(0, 1))\n",
    "average_corrs_aeg_opt = numpy.mean(corrs_pe_aeg_ensemble, axis=(0, 1))\n",
    "average_corrs_gls_opt = numpy.mean(corrs_pe_gls_ensemble, axis=(0, 1))\n",
    "\n",
    "# Compute average inter-parameter correlations for baseline designs\n",
    "average_corrs_wslts_base = numpy.mean(corrs_pe_wslts_ensemble_base, axis=(0, 1))\n",
    "average_corrs_aeg_base = numpy.mean(corrs_pe_aeg_ensemble_base, axis=(0, 1))\n",
    "average_corrs_gls_base = numpy.mean(corrs_pe_gls_ensemble_base, axis=(0, 1))"
   ]
  },
  {
   "cell_type": "code",
   "execution_count": null,
   "metadata": {},
   "outputs": [],
   "source": [
    "corrs = [average_corrs_wslts_opt, average_corrs_aeg_opt, average_corrs_gls_opt,\n",
    "         average_corrs_wslts_base, average_corrs_aeg_base, average_corrs_gls_base]\n",
    "sizes = [3, 2, 5, 3, 2, 5]\n",
    "names = ['WSLTS (Optimal)', 'AEG (Optimal)', 'GLS (Optimal)',\n",
    "         'WSLTS (Baseline)', 'AEG (Baseline)', 'GLS (Baseline)']\n",
    "\n",
    "fig = plt.figure(figsize=(8, 6))\n",
    "\n",
    "it = 0\n",
    "for crs in tqdm(corrs):\n",
    "    \n",
    "    it += 1\n",
    "    ax1 = fig.add_subplot(2, 3, it)\n",
    "    fig, ax1, _ = plot_correlations(\n",
    "        crs, fig, ax1, num_decimals=2,\n",
    "        colorbar=False, numsize=15, cmap='seismic', size=sizes[it-1])\n",
    "    ax1.set_xticks([])\n",
    "    ax1.set_yticks([]);\n",
    "    \n",
    "    ax1.set_title(names[it-1], size=15)\n",
    "    \n",
    "plt.tight_layout();"
   ]
  },
  {
   "cell_type": "markdown",
   "metadata": {},
   "source": [
    "## Posterior Entropies"
   ]
  },
  {
   "cell_type": "code",
   "execution_count": null,
   "metadata": {},
   "outputs": [],
   "source": [
    "# define green colors for plotting\n",
    "green_full = (*to_rgb(cycle[2]), 1)\n",
    "green_alpha = (*to_rgb(cycle[2]), 0.2)\n",
    "# define orange colors for plotting\n",
    "orange_full = (*to_rgb(cycle[1]), 1)\n",
    "orange_alpha = (*to_rgb(cycle[1]), 0.2)"
   ]
  },
  {
   "cell_type": "markdown",
   "metadata": {},
   "source": [
    "### MD: Shannon Entropy Plots"
   ]
  },
  {
   "cell_type": "code",
   "execution_count": null,
   "metadata": {},
   "outputs": [],
   "source": [
    "fig = plt.figure(figsize=(7, 6))\n",
    "\n",
    "ax = fig.add_subplot(111)\n",
    "\n",
    "opt = numpy.median(md_entropies_opt, axis=1)\n",
    "base = numpy.median(md_entropies_base, axis=1)\n",
    "\n",
    "j = numpy.hstack((opt, base))\n",
    "\n",
    "hatch_opt = ''\n",
    "hatch_base = '/'\n",
    "\n",
    "BINS = 6\n",
    "bins = numpy.linspace(numpy.min(j), numpy.max(j), BINS + 1)\n",
    "ax.hist(base, bins=bins, alpha=0.2, density=True, color=cycle[1])\n",
    "ax.hist(base, bins=bins, alpha=1, density=True, histtype='step', edgecolor=cycle[1], hatch=hatch_base)\n",
    "ax.hist(opt, bins=bins, alpha=0.2, density=True, color=cycle[2])\n",
    "ax.hist(opt, bins=bins, alpha=1, density=True, histtype='step', edgecolor=cycle[2], hatch=hatch_opt) #, hatch='x')\n",
    "ax.set_xlabel('Shannon Entropy', size=30)\n",
    "ax.set_ylabel('Frequency', size=30)\n",
    "ax.tick_params(axis='both', which='major', labelsize=20)\n",
    "ax.tick_params(axis='both', which='minor', labelsize=15)\n",
    "# ax.grid(True, ls='--')\n",
    "handles = (\n",
    "    (Patch(facecolor=orange_alpha, edgecolor=orange_alpha, hatch=hatch_base),\n",
    "           Patch(edgecolor=orange_full, fill=None, hatch=hatch_base)),\n",
    "    (Patch(facecolor=green_alpha, edgecolor=green_alpha, hatch=hatch_opt),\n",
    "           Patch(edgecolor=green_full, fill=None, hatch=hatch_opt)),\n",
    ")\n",
    "ax.set_title('MD Posterior Entropies', size=30)\n",
    "ax.legend(handles=handles, labels=('Baseline', 'Optimal',), loc='upper left', prop={'size': 25})\n",
    "plt.tight_layout();"
   ]
  },
  {
   "cell_type": "markdown",
   "metadata": {},
   "source": [
    "### PE: Differential Entropy Plots"
   ]
  },
  {
   "cell_type": "code",
   "execution_count": null,
   "metadata": {},
   "outputs": [],
   "source": [
    "fig = plt.figure(figsize=(7, 6))\n",
    "\n",
    "ax = fig.add_subplot(111)\n",
    "\n",
    "opt = numpy.median(pe_wslts_entropies_data['opt_ind'], axis=1)\n",
    "base = numpy.median(pe_wslts_entropies_data['base_ind'], axis=1)\n",
    "\n",
    "j = numpy.hstack((opt, base))\n",
    "\n",
    "hatch_opt = ''\n",
    "hatch_base = '/'\n",
    "\n",
    "BINS = 6\n",
    "bins = numpy.linspace(numpy.min(j), numpy.max(j), BINS + 1)\n",
    "ax.hist(base, bins=bins, alpha=0.2, density=True, color=cycle[1])\n",
    "ax.hist(base, bins=bins, alpha=1, density=True, histtype='step', edgecolor=cycle[1], hatch=hatch_base)\n",
    "ax.hist(opt, bins=bins, alpha=0.2, density=True, color=cycle[2])\n",
    "ax.hist(opt, bins=bins, alpha=1, density=True, histtype='step', edgecolor=cycle[2], hatch=hatch_opt) #, hatch='x')\n",
    "\n",
    "ax.set_xlabel('Differential Entropy', size=30)\n",
    "ax.set_ylabel('Frequency', size=30)\n",
    "ax.tick_params(axis='both', which='major', labelsize=20)\n",
    "ax.tick_params(axis='both', which='minor', labelsize=15)\n",
    "# ax.grid(True, ls='--')\n",
    "handles = (\n",
    "    (Patch(facecolor=orange_alpha, edgecolor=orange_alpha, hatch=hatch_base),\n",
    "           Patch(edgecolor=orange_full, fill=None, hatch=hatch_base)),\n",
    "    (Patch(facecolor=green_alpha, edgecolor=green_alpha, hatch=hatch_opt),\n",
    "           Patch(edgecolor=green_full, fill=None, hatch=hatch_opt)),\n",
    ")\n",
    "ax.set_title(r'PE$-$WSLTS Posterior Entropies', size=30)\n",
    "ax.legend(handles=handles, labels=('Baseline', 'Optimal',), loc='upper right', prop={'size': 25})\n",
    "plt.tight_layout();"
   ]
  },
  {
   "cell_type": "code",
   "execution_count": null,
   "metadata": {},
   "outputs": [],
   "source": [
    "fig = plt.figure(figsize=(7, 6))\n",
    "\n",
    "ax = fig.add_subplot(111)\n",
    "\n",
    "opt = numpy.median(pe_aeg_entropies_data['opt_ind'], axis=1)\n",
    "base = numpy.median(pe_aeg_entropies_data['base_ind'], axis=1)\n",
    "\n",
    "j = numpy.hstack((opt, base))\n",
    "\n",
    "hatch_opt = ''\n",
    "hatch_base = '/'\n",
    "\n",
    "BINS = 6\n",
    "bins = numpy.linspace(numpy.min(j), numpy.max(j), BINS + 1)\n",
    "ax.hist(base, bins=bins, alpha=0.2, density=True, color=cycle[1])\n",
    "ax.hist(base, bins=bins, alpha=1, density=True, histtype='step', edgecolor=cycle[1], hatch=hatch_base)\n",
    "ax.hist(opt, bins=bins, alpha=0.2, density=True, color=cycle[2])\n",
    "ax.hist(opt, bins=bins, alpha=1, density=True, histtype='step', edgecolor=cycle[2], hatch=hatch_opt) #, hatch='x')\n",
    "\n",
    "ax.set_xlabel('Differential Entropy', size=30)\n",
    "ax.set_ylabel('Frequency', size=30)\n",
    "ax.tick_params(axis='both', which='major', labelsize=20)\n",
    "ax.tick_params(axis='both', which='minor', labelsize=15)\n",
    "# ax.grid(True, ls='--')\n",
    "handles = (\n",
    "    (Patch(facecolor=orange_alpha, edgecolor=orange_alpha, hatch=hatch_base),\n",
    "           Patch(edgecolor=orange_full, fill=None, hatch=hatch_base)),\n",
    "    (Patch(facecolor=green_alpha, edgecolor=green_alpha, hatch=hatch_opt),\n",
    "           Patch(edgecolor=green_full, fill=None, hatch=hatch_opt)),\n",
    ")\n",
    "ax.set_title(r'PE$-$AEG Posterior Entropies', size=30)\n",
    "ax.legend(handles=handles, labels=('Baseline', 'Optimal',), loc='upper right', prop={'size': 25})\n",
    "plt.tight_layout();"
   ]
  },
  {
   "cell_type": "code",
   "execution_count": null,
   "metadata": {},
   "outputs": [],
   "source": [
    "fig = plt.figure(figsize=(7, 6))\n",
    "\n",
    "ax = fig.add_subplot(111)\n",
    "\n",
    "opt = numpy.median(pe_gls_entropies_data['opt_ind'], axis=1)\n",
    "base = numpy.median(pe_gls_entropies_data['base_ind'], axis=1)\n",
    "\n",
    "j = numpy.hstack((opt, base))\n",
    "\n",
    "hatch_opt = ''\n",
    "hatch_base = '/'\n",
    "\n",
    "BINS = 6\n",
    "bins = numpy.linspace(numpy.min(j), numpy.max(j), BINS + 1)\n",
    "ax.hist(base, bins=bins, alpha=0.2, density=True, color=cycle[1])\n",
    "ax.hist(base, bins=bins, alpha=1, density=True, histtype='step', edgecolor=cycle[1], hatch=hatch_base)\n",
    "ax.hist(opt, bins=bins, alpha=0.2, density=True, color=cycle[2])\n",
    "ax.hist(opt, bins=bins, alpha=1, density=True, histtype='step', edgecolor=cycle[2], hatch=hatch_opt) #, hatch='x')\n",
    "\n",
    "ax.set_xlabel('Differential Entropy', size=30)\n",
    "ax.set_ylabel('Frequency', size=30)\n",
    "ax.tick_params(axis='both', which='major', labelsize=20)\n",
    "ax.tick_params(axis='both', which='minor', labelsize=15)\n",
    "# ax.grid(True, ls='--')\n",
    "handles = (\n",
    "    (Patch(facecolor=orange_alpha, edgecolor=orange_alpha, hatch=hatch_base),\n",
    "           Patch(edgecolor=orange_full, fill=None, hatch=hatch_base)),\n",
    "    (Patch(facecolor=green_alpha, edgecolor=green_alpha, hatch=hatch_opt),\n",
    "           Patch(edgecolor=green_full, fill=None, hatch=hatch_opt)),\n",
    ")\n",
    "ax.set_title(r'PE$-$GLS Posterior Entropies', size=30)\n",
    "ax.legend(handles=handles, labels=('Baseline', 'Optimal',), loc='upper right', prop={'size': 25})\n",
    "plt.tight_layout();"
   ]
  },
  {
   "cell_type": "markdown",
   "metadata": {},
   "source": [
    "# Qualitative Analysis"
   ]
  },
  {
   "cell_type": "markdown",
   "metadata": {},
   "source": [
    "## Compute Mean/MAP estimates and KDEs of Posteriors"
   ]
  },
  {
   "cell_type": "code",
   "execution_count": null,
   "metadata": {},
   "outputs": [],
   "source": [
    "def get_pe_posterior_summary_with_kde(posterior_samples, grid_list):\n",
    "    \n",
    "    pe_posts_kdes = list()\n",
    "    pe_posts_means = list()\n",
    "    pe_posts_medians = list()\n",
    "    pe_posts_maps = list()\n",
    "    for participant in tqdm(range(len(posterior_samples))):\n",
    "\n",
    "        kdes_tmp = list()\n",
    "        means_tmp = list()\n",
    "        medians_tmp = list()\n",
    "        maps_tmp = list()\n",
    "        for model_num in range(len(posterior_samples[participant])):\n",
    "\n",
    "            post_samples = posterior_samples[participant, model_num, :, :]\n",
    "\n",
    "            # compute kde\n",
    "            kde_theta = [\n",
    "                sts.gaussian_kde(post_samples[:, i], bw_method='silverman') \\\n",
    "                for i in range(post_samples.shape[-1])\n",
    "            ]\n",
    "            kdes_tmp.append([kde_theta[i].pdf(grid_list[i]) for i in range(len(kde_theta))])\n",
    "            maps_tmp.append([grid_list[i][numpy.argmax(kde_theta[i])] for i in range(len(kde_theta))])\n",
    "\n",
    "            # compute means and median\n",
    "            means = numpy.mean(post_samples, axis=0)\n",
    "            means_tmp.append(means)\n",
    "            medians = numpy.median(post_samples, axis=0)\n",
    "            medians_tmp.append(medians)\n",
    "\n",
    "        pe_posts_kdes.append(kdes_tmp)\n",
    "        pe_posts_means.append(means_tmp)\n",
    "        pe_posts_medians.append(medians_tmp)\n",
    "        pe_posts_maps.append(maps_tmp)\n",
    "\n",
    "    pe_posts_kdes = numpy.array(pe_posts_kdes)\n",
    "    pe_posts_means = numpy.array(pe_posts_means)\n",
    "    pe_posts_medians = numpy.array(pe_posts_medians)\n",
    "    pe_posts_maps = numpy.array(pe_posts_maps)\n",
    "    \n",
    "    return pe_posts_means, pe_posts_medians, pe_posts_maps, pe_posts_kdes"
   ]
  },
  {
   "cell_type": "code",
   "execution_count": null,
   "metadata": {},
   "outputs": [],
   "source": [
    "pe_aeg_posts_samples = torch.load('../data/pe_aeg_posts_samples_10k.pt')"
   ]
  },
  {
   "cell_type": "code",
   "execution_count": null,
   "metadata": {},
   "outputs": [],
   "source": [
    "grids_aeg_list = [\n",
    "    numpy.linspace(0, 1, 20, endpoint=True),\n",
    "    numpy.linspace(0, 1, 20, endpoint=True)\n",
    "]"
   ]
  },
  {
   "cell_type": "code",
   "execution_count": null,
   "metadata": {},
   "outputs": [],
   "source": [
    "pe_aeg_summary = get_pe_posterior_summary_with_kde(pe_aeg_posts_samples, grids_aeg_list)\n",
    "pe_aeg_posts_means = pe_aeg_summary[0]\n",
    "pe_aeg_posts_medians = pe_aeg_summary[1]\n",
    "pe_aeg_posts_maps = pe_aeg_summary[2]\n",
    "pe_aeg_posts_kdes = pe_aeg_summary[3]"
   ]
  },
  {
   "cell_type": "markdown",
   "metadata": {},
   "source": [
    "## PE Example Posterior Plots"
   ]
  },
  {
   "cell_type": "markdown",
   "metadata": {},
   "source": [
    "### WSLTS"
   ]
  },
  {
   "cell_type": "code",
   "execution_count": null,
   "metadata": {},
   "outputs": [],
   "source": [
    "# TODO: Still need to do this, do you have the code, @Simon?"
   ]
  },
  {
   "cell_type": "markdown",
   "metadata": {},
   "source": [
    "### AEG"
   ]
  },
  {
   "cell_type": "code",
   "execution_count": null,
   "metadata": {},
   "outputs": [],
   "source": [
    "# compute means of kdes over ensemble predictions\n",
    "kdes_means = numpy.mean(pe_aeg_posts_kdes, axis=1)"
   ]
  },
  {
   "cell_type": "code",
   "execution_count": null,
   "metadata": {},
   "outputs": [],
   "source": [
    "ID_0 = 1\n",
    "ID_1 = 6"
   ]
  },
  {
   "cell_type": "code",
   "execution_count": null,
   "metadata": {},
   "outputs": [],
   "source": [
    "maxes = numpy.max(kdes_means[[ID_0, ID_1]], axis=(0, 2))\n",
    "max_th0 = maxes[0]\n",
    "max_th1 = maxes[1]"
   ]
  },
  {
   "cell_type": "code",
   "execution_count": null,
   "metadata": {},
   "outputs": [],
   "source": [
    "fig = plt.figure(figsize=(9, 4))\n",
    "\n",
    "ax0 = fig.add_subplot(121)\n",
    "ax0.plot(grids_aeg_list[0], kdes_means[ID_0][0], color=cycle[2], lw=2, alpha=1)\n",
    "ax0.fill_between(grids_aeg_list[0], kdes_means[ID_0][0], color=cycle[2], lw=1, alpha=0.1)\n",
    "ax0.plot(grids_aeg_list[0], numpy.ones(len(grids_aeg_list[0])), color=cycle[0], lw=2)\n",
    "ax0.fill_between(grids_aeg_list[0], numpy.ones(len(grids_aeg_list[0])), color=cycle[0], lw=1, alpha=0.1)\n",
    "ax0.set_xlabel(r'$\\theta_0$', size=25)\n",
    "ax0.set_ylabel(r'Density', size=25)\n",
    "ax0.set_xlim([0, 1])\n",
    "ax0.tick_params(axis='both', which='major', labelsize=20)\n",
    "# ax0.set_ylim([0, np.max(kdes_means[ID_0][0])+0.5])\n",
    "ax0.set_ylim([0, max_th0 + 0.25])\n",
    "\n",
    "ax1 = fig.add_subplot(122)\n",
    "ax1.plot(grids_aeg_list[1], kdes_means[ID_0][1], color=cycle[2], lw=2, label='Posterior')\n",
    "ax1.fill_between(grids_aeg_list[1], kdes_means[ID_0][1], color=cycle[2], lw=1, alpha=0.1)\n",
    "ax1.plot(grids_aeg_list[1], numpy.ones(len(grids_aeg_list[1])), color=cycle[0], lw=2, label='Prior')\n",
    "ax1.fill_between(grids_aeg_list[1], numpy.ones(len(grids_aeg_list[1])), color=cycle[0], lw=1, alpha=0.1)\n",
    "ax1.set_xlabel(r'$\\theta_1$', size=25)\n",
    "# ax1.set_ylabel(r'Posterior PDF', size=20)\n",
    "ax1.set_xlim([0, 1])\n",
    "ax1.tick_params(axis='both', which='major', labelsize=20)\n",
    "ax1.tick_params(axis='both', which='minor', labelsize=15)\n",
    "# ax1.set_ylim([0, np.max(kdes_means[ID_0][1])+0.5])\n",
    "ax1.set_ylim([0, max_th1 + 0.50])\n",
    "ax1.legend(loc='upper left')\n",
    "\n",
    "plt.suptitle('AEG Example Candidate 1', size=25)\n",
    "\n",
    "plt.tight_layout();\n",
    "plt.subplots_adjust(top=0.85)"
   ]
  },
  {
   "cell_type": "code",
   "execution_count": null,
   "metadata": {},
   "outputs": [],
   "source": [
    "fig = plt.figure(figsize=(9, 4))\n",
    "\n",
    "ax0 = fig.add_subplot(121)\n",
    "ax0.plot(grids_aeg_list[0], kdes_means[ID_1][0], color=cycle[2], lw=2, alpha=1)\n",
    "ax0.fill_between(grids_aeg_list[0], kdes_means[ID_1][0], color=cycle[2], lw=1, alpha=0.1)\n",
    "ax0.plot(grids_aeg_list[0], numpy.ones(len(grids_aeg_list[0])), color=cycle[0], lw=2)\n",
    "ax0.fill_between(grids_aeg_list[0], numpy.ones(len(grids_aeg_list[0])), color=cycle[0], lw=1, alpha=0.1)\n",
    "ax0.set_xlabel(r'$\\theta_0$', size=25)\n",
    "ax0.set_ylabel(r'Density', size=25)\n",
    "ax0.set_xlim([0, 1])\n",
    "ax0.tick_params(axis='both', which='major', labelsize=20)\n",
    "# ax0.set_ylim([0, np.max(kdes_means[ID_0][0])+0.5])\n",
    "ax0.set_ylim([0, max_th0 + 0.25])\n",
    "\n",
    "ax1 = fig.add_subplot(122)\n",
    "ax1.plot(grids_aeg_list[1], kdes_means[ID_1][1], color=cycle[2], lw=2, label='Posterior')\n",
    "ax1.fill_between(grids_aeg_list[1], kdes_means[ID_1][1], color=cycle[2], lw=1, alpha=0.1)\n",
    "ax1.plot(grids_aeg_list[1], numpy.ones(len(grids_aeg_list[1])), color=cycle[0], lw=2, label='Prior')\n",
    "ax1.fill_between(grids_aeg_list[1], numpy.ones(len(grids_aeg_list[1])), color=cycle[0], lw=1, alpha=0.1)\n",
    "ax1.set_xlabel(r'$\\theta_1$', size=25)\n",
    "# ax1.set_ylabel(r'Posterior PDF', size=20)\n",
    "ax1.set_xlim([0, 1])\n",
    "ax1.tick_params(axis='both', which='major', labelsize=20)\n",
    "ax1.tick_params(axis='both', which='minor', labelsize=15)\n",
    "# ax1.set_ylim([0, np.max(kdes_means[ID_0][1])+0.5])\n",
    "ax1.set_ylim([0, max_th1 + 0.50])\n",
    "ax1.legend(loc='upper left')\n",
    "\n",
    "plt.suptitle('AEG Example Candidate 2', size=25)\n",
    "\n",
    "plt.tight_layout();\n",
    "plt.subplots_adjust(top=0.85)"
   ]
  },
  {
   "cell_type": "markdown",
   "metadata": {},
   "source": [
    "### GLS"
   ]
  },
  {
   "cell_type": "code",
   "execution_count": null,
   "metadata": {},
   "outputs": [],
   "source": [
    "# TODO: Still need to do this, do you have the code, @Simon?"
   ]
  },
  {
   "cell_type": "markdown",
   "metadata": {},
   "source": [
    "### PE-AEG Summary Posterior Mean Plot"
   ]
  },
  {
   "cell_type": "code",
   "execution_count": null,
   "metadata": {},
   "outputs": [],
   "source": [
    "# median of posterior means, for robustness\n",
    "means_medians = numpy.median(pe_aeg_posts_means, axis=1)"
   ]
  },
  {
   "cell_type": "code",
   "execution_count": null,
   "metadata": {},
   "outputs": [],
   "source": [
    "ID_0 = 1\n",
    "ID_1 = 6"
   ]
  },
  {
   "cell_type": "code",
   "execution_count": null,
   "metadata": {},
   "outputs": [],
   "source": [
    "df = pandas.DataFrame({\n",
    "    r'$\\theta_0$': means_medians[:, 0],\n",
    "    r'$\\theta_1$': means_medians[:, 1]}).drop([ID_0, ID_1])"
   ]
  },
  {
   "cell_type": "code",
   "execution_count": null,
   "metadata": {},
   "outputs": [],
   "source": [
    "g = sns.JointGrid(x=r'$\\theta_0$', y=r'$\\theta_1$', height=7, data=df)\n",
    "\n",
    "g.plot_joint(sns.scatterplot, s=200, marker='^', facecolor='none', edgecolor=cycle[0], linewidth=1.5, alpha=0.6)\n",
    "g.plot_marginals(sns.histplot, kde=False, alpha=0.3, edgecolor=cycle[0])\n",
    "\n",
    "ax = g.ax_joint\n",
    "ax.grid(True, ls='--')\n",
    "ax.set_xlim([0, 1])\n",
    "ax.set_ylim([0, 1])\n",
    "ax.tick_params(axis='both', which='major', labelsize=20)\n",
    "ax.set_xlabel(r'$\\theta_0$', size=25)\n",
    "ax.set_ylabel(r'$\\theta_1$', size=25)\n",
    "\n",
    "ax.scatter(\n",
    "    means_medians[ID_0, 0], means_medians[ID_0, 1], label='Ex. Candidate 1',\n",
    "    s=250, marker=',', facecolor='none', edgecolor=cycle[1], linewidth=1.5\n",
    ")\n",
    "ax.scatter(\n",
    "    means_medians[ID_1, 0], means_medians[ID_1, 1], label='Ex. Candidate 2',\n",
    "    s=250, marker='o', facecolor='none', edgecolor=cycle[3], linewidth=1.5\n",
    ")\n",
    "# ax.legend(loc='center right')\n",
    "\n",
    "ax_marg_x = g.ax_marg_x\n",
    "ax_marg_x.set_xlim([0, 1])\n",
    "ax_marg_y = g.ax_marg_y\n",
    "ax_marg_y.set_ylim([0, 1])\n",
    "\n",
    "plt.tight_layout();\n",
    "plt.subplots_adjust(hspace=0.2, wspace=0.2)"
   ]
  },
  {
   "cell_type": "code",
   "execution_count": null,
   "metadata": {},
   "outputs": [],
   "source": []
  }
 ],
 "metadata": {
  "kernelspec": {
   "display_name": "Python [conda env:boed-tutorial]",
   "language": "python",
   "name": "conda-env-boed-tutorial-py"
  },
  "language_info": {
   "codemirror_mode": {
    "name": "ipython",
    "version": 3
   },
   "file_extension": ".py",
   "mimetype": "text/x-python",
   "name": "python",
   "nbconvert_exporter": "python",
   "pygments_lexer": "ipython3",
   "version": "3.8.15"
  }
 },
 "nbformat": 4,
 "nbformat_minor": 4
}
